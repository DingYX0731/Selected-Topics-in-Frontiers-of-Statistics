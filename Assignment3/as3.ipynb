{
 "cells": [
  {
   "cell_type": "code",
   "execution_count": 28,
   "metadata": {},
   "outputs": [],
   "source": [
    "import networkx as nx\n",
    "import numpy as np\n",
    "import sympy as sp\n",
    "import math\n",
    "import random\n",
    "import matplotlib.pyplot as plt"
   ]
  },
  {
   "cell_type": "code",
   "execution_count": 2,
   "metadata": {},
   "outputs": [],
   "source": [
    "n = 10000\n",
    "p = 0.00005\n",
    "G = nx.erdos_renyi_graph(n, p)"
   ]
  },
  {
   "cell_type": "code",
   "execution_count": 3,
   "metadata": {},
   "outputs": [],
   "source": [
    "components = nx.connected_components(G)"
   ]
  },
  {
   "cell_type": "code",
   "execution_count": 4,
   "metadata": {},
   "outputs": [],
   "source": [
    "component_sizes = [len(component) for component in components]"
   ]
  },
  {
   "cell_type": "code",
   "execution_count": 5,
   "metadata": {},
   "outputs": [],
   "source": [
    "component_distribution = {}\n",
    "for size in component_sizes:\n",
    "    if size in component_distribution:\n",
    "        component_distribution[size] += 1\n",
    "    else:\n",
    "        component_distribution[size] = 1"
   ]
  },
  {
   "cell_type": "code",
   "execution_count": 6,
   "metadata": {},
   "outputs": [],
   "source": [
    "max_size = max(component_distribution.keys())"
   ]
  },
  {
   "cell_type": "code",
   "execution_count": 7,
   "metadata": {},
   "outputs": [
    {
     "data": {
      "image/png": "[encoded data removed]",
      "text/plain": [
       "<Figure size 640x480 with 1 Axes>"
      ]
     },
     "metadata": {},
     "output_type": "display_data"
    }
   ],
   "source": [
    "sizes, counts = zip(*sorted(component_distribution.items()))\n",
    "counts = [count/len(component_sizes) for count in counts]\n",
    "plt.bar(sizes, counts)\n",
    "plt.xlabel('Component Size')\n",
    "plt.ylabel('Frequency')\n",
    "plt.title('Component Size Distribution')\n",
    "plt.show()"
   ]
  },
  {
   "cell_type": "code",
   "execution_count": 8,
   "metadata": {},
   "outputs": [],
   "source": [
    "degrees = dict(G.degree())"
   ]
  },
  {
   "cell_type": "code",
   "execution_count": 9,
   "metadata": {},
   "outputs": [],
   "source": [
    "degrees = [d for n, d in G.degree()]\n",
    "max_degree = max(degrees) + 1\n",
    "freq = [degrees.count(d)/n for d in range(max_degree)]\n",
    "x = sp.symbols('x')\n",
    "G_0 = sum(freq[k] * x ** k for k in range(max_degree))\n",
    "G_0_prime = sp.diff(G_0, x)\n",
    "G_0_prime_at_1 = G_0_prime.subs(x, 1)\n",
    "G_1 = G_0_prime / G_0_prime_at_1"
   ]
  },
  {
   "cell_type": "code",
   "execution_count": 10,
   "metadata": {},
   "outputs": [
    {
     "data": {
      "text/latex": [
       "$\\displaystyle 0.000157950692633498 x^{5} + 0.00157950692633498 x^{4} + 0.0126360554106799 x^{3} + 0.0758163324640792 x^{2} + 0.303265329856317 x + 0.606530659712633$"
      ],
      "text/plain": [
       "0.000157950692633498*x**5 + 0.00157950692633498*x**4 + 0.0126360554106799*x**3 + 0.0758163324640792*x**2 + 0.303265329856317*x + 0.606530659712633"
      ]
     },
     "execution_count": 10,
     "metadata": {},
     "output_type": "execute_result"
    }
   ],
   "source": [
    "G_0"
   ]
  },
  {
   "cell_type": "code",
   "execution_count": 11,
   "metadata": {},
   "outputs": [
    {
     "data": {
      "text/latex": [
       "$\\displaystyle 0.00157977883096367 x^{4} + 0.0126382306477093 x^{3} + 0.0758293838862559 x^{2} + 0.303317535545024 x + 0.606635071090047$"
      ],
      "text/plain": [
       "0.00157977883096367*x**4 + 0.0126382306477093*x**3 + 0.0758293838862559*x**2 + 0.303317535545024*x + 0.606635071090047"
      ]
     },
     "execution_count": 11,
     "metadata": {},
     "output_type": "execute_result"
    }
   ],
   "source": [
    "G_1"
   ]
  },
  {
   "cell_type": "code",
   "execution_count": 12,
   "metadata": {},
   "outputs": [
    {
     "data": {
      "text/plain": [
       "4"
      ]
     },
     "execution_count": 12,
     "metadata": {},
     "output_type": "execute_result"
    }
   ],
   "source": [
    "sp.Poly(G_1, x).degree()"
   ]
  },
  {
   "cell_type": "code",
   "execution_count": 13,
   "metadata": {},
   "outputs": [],
   "source": [
    "H_1 = x"
   ]
  },
  {
   "cell_type": "code",
   "execution_count": 14,
   "metadata": {},
   "outputs": [],
   "source": [
    "P_list = []"
   ]
  },
  {
   "cell_type": "code",
   "execution_count": 15,
   "metadata": {},
   "outputs": [],
   "source": [
    "while sp.Poly(H_1, x).degree() < max_size:\n",
    "    H_1 = x * G_1.subs(x, H_1)"
   ]
  },
  {
   "cell_type": "code",
   "execution_count": 16,
   "metadata": {},
   "outputs": [
    {
     "name": "stdout",
     "output_type": "stream",
     "text": [
      "hi\n",
      "hi\n",
      "Hi\n",
      "Hi\n",
      "Hi\n",
      "Hi\n",
      "Hi\n",
      "Hi\n",
      "Hi\n",
      "Hi\n",
      "Hi\n",
      "Hi\n",
      "Hi\n",
      "Hi\n",
      "Hi\n"
     ]
    }
   ],
   "source": [
    "H_1 = sp.expand(H_1)\n",
    "print(\"hi\")\n",
    "H_0 = x * G_0.subs(x, H_1)\n",
    "H_0 = sp.expand(H_0)\n",
    "den = 1\n",
    "print(\"hi\")\n",
    "for i in range(max_size):\n",
    "    print(\"Hi\")\n",
    "    H_0_prime = H_0\n",
    "    den *= (i+1)\n",
    "    for j in range(i+1):\n",
    "        H_0_prime = sp.diff(H_0_prime, x)\n",
    "    H_0_prime = H_0_prime.subs(x, 0)\n",
    "    P_s = 1 / den * H_0_prime\n",
    "    P_list.append(P_s)"
   ]
  },
  {
   "cell_type": "code",
   "execution_count": 17,
   "metadata": {},
   "outputs": [
    {
     "data": {
      "text/plain": [
       "[0.606530659712633,\n",
       " 0.183971384936533,\n",
       " 0.0837026206346313,\n",
       " 0.0561102875554953,\n",
       " 0.0326711869778819,\n",
       " 0.0177538264849364,\n",
       " 0.00943219788352175,\n",
       " 0.00489176513506181,\n",
       " 0.00249151451508323,\n",
       " 0.00124680518729190,\n",
       " 0.000614467175787467,\n",
       " 0.000298796344442113,\n",
       " 0.000143476183234610]"
      ]
     },
     "execution_count": 17,
     "metadata": {},
     "output_type": "execute_result"
    }
   ],
   "source": [
    "P_list"
   ]
  },
  {
   "cell_type": "code",
   "execution_count": 18,
   "metadata": {},
   "outputs": [
    {
     "data": {
      "image/png": "[encoded data removed]",
      "text/plain": [
       "<Figure size 640x480 with 1 Axes>"
      ]
     },
     "metadata": {},
     "output_type": "display_data"
    }
   ],
   "source": [
    "positions = [str(i) for i in range(1, len(P_list) + 1)]\n",
    "\n",
    "plt.bar(positions, P_list)\n",
    "plt.xlabel('Component Size')\n",
    "plt.ylabel('Frequency')\n",
    "plt.title('Component Size Distribution')\n",
    "plt.show()"
   ]
  },
  {
   "cell_type": "code",
   "execution_count": 19,
   "metadata": {},
   "outputs": [
    {
     "data": {
      "image/png": "[encoded data removed]",
      "text/plain": [
       "<Figure size 1000x500 with 1 Axes>"
      ]
     },
     "metadata": {},
     "output_type": "display_data"
    }
   ],
   "source": [
    "S_list = []\n",
    "T_list = [0.1, 0.2, 0.3, 0.4, 0.5, 0.6, 0.7, 0.8, 0.9]\n",
    "for T in T_list:\n",
    "    S = 0.1\n",
    "    for i in range(10):\n",
    "        S = 1 - math.exp(-1 * S / T)\n",
    "    S_list.append(S)\n",
    "\n",
    "plt.figure(figsize=(10, 5)) \n",
    "plt.plot(T_list, S_list, label='S vs T', marker='o') \n",
    "\n",
    "# plt.plot(degrees, T_list, label='T', marker='s', linestyle='--')  \n",
    "\n",
    "plt.title('S and T changed by degree')\n",
    "plt.xlabel('T')\n",
    "plt.ylabel('S')\n",
    "\n",
    "plt.legend()\n",
    "\n",
    "plt.grid(True)\n",
    "plt.show()"
   ]
  },
  {
   "cell_type": "code",
   "execution_count": 20,
   "metadata": {},
   "outputs": [],
   "source": [
    "N = 1001\n",
    "\n",
    "G_0 = 0\n",
    "for k in range(2, int(math.sqrt(N))):\n",
    "    p_k = k**(-2.5)\n",
    "    G_0 += p_k * x**k\n",
    "G_0_prime = sp.diff(G_0, x)\n",
    "G_0_prime_twice = sp.diff(G_0_prime, x)\n",
    "G_0_prime_at_1 = G_0_prime.subs(x, 1)\n",
    "G_1 = G_0_prime / G_0_prime_at_1\n",
    "G_0_prime_twice_at_1 = G_0_prime_twice.subs(x, 1)\n",
    "T_c = G_0_prime_at_1 / G_0_prime_twice_at_1"
   ]
  },
  {
   "cell_type": "code",
   "execution_count": 30,
   "metadata": {},
   "outputs": [],
   "source": [
    "T_list = [0.1, 0.2, 0.3, 0.4, 0.5, 0.6, 0.7, 0.8, 0.9]\n",
    "N = 2000\n",
    "gamma = 2.5\n",
    "max_degree = int(np.sqrt(N))"
   ]
  },
  {
   "cell_type": "code",
   "execution_count": 49,
   "metadata": {},
   "outputs": [],
   "source": [
    "degrees = np.array([k**(-gamma) for k in range(1, max_degree + 1)])\n",
    "degrees = degrees[1:]\n",
    "degrees = degrees / np.sum(degrees)\n",
    "degree_sequence = np.random.choice(np.arange(2, max_degree+1), size=N, p=degrees)"
   ]
  },
  {
   "cell_type": "code",
   "execution_count": 50,
   "metadata": {},
   "outputs": [
    {
     "data": {
      "text/plain": [
       "2"
      ]
     },
     "execution_count": 50,
     "metadata": {},
     "output_type": "execute_result"
    }
   ],
   "source": [
    "min(degree_sequence)"
   ]
  },
  {
   "cell_type": "code",
   "execution_count": 56,
   "metadata": {},
   "outputs": [
    {
     "name": "stderr",
     "output_type": "stream",
     "text": [
      "C:\\Users\\25540\\AppData\\Local\\Temp\\ipykernel_25400\\653284676.py:7: DeprecationWarning: Sampling from a set deprecated\n",
      "since Python 3.9 and will be removed in a subsequent version.\n",
      "  neighbors = random.sample(G.nodes(), degree)\n"
     ]
    }
   ],
   "source": [
    "G = nx.Graph()\n",
    "\n",
    "for node, degree in enumerate(degree_sequence):\n",
    "    G.add_node(node)\n",
    "\n",
    "for node, degree in enumerate(degree_sequence):\n",
    "    neighbors = random.sample(G.nodes(), degree)\n",
    "    random_float = random.random()\n",
    "    if random_float < T_list[0]:\n",
    "        G.add_edges_from([(node, neighbor) for neighbor in neighbors if node != neighbor])"
   ]
  },
  {
   "cell_type": "code",
   "execution_count": 58,
   "metadata": {},
   "outputs": [],
   "source": [
    "# 找到所有的连通组件\n",
    "components = list(nx.connected_components(G))\n",
    "\n",
    "# 找到最大的连通组件\n",
    "largest_component = max(components, key=len)\n",
    "\n",
    "# 提取最大的连通组件\n",
    "largest_component_G = G.subgraph(largest_component)"
   ]
  },
  {
   "cell_type": "code",
   "execution_count": 60,
   "metadata": {},
   "outputs": [
    {
     "data": {
      "text/plain": [
       "579"
      ]
     },
     "execution_count": 60,
     "metadata": {},
     "output_type": "execute_result"
    }
   ],
   "source": [
    "len(largest_component)"
   ]
  },
  {
   "cell_type": "code",
   "execution_count": 57,
   "metadata": {},
   "outputs": [],
   "source": [
    "assert G.number_of_nodes() == N, \"Number of nodes is not equal to N\""
   ]
  },
  {
   "cell_type": "code",
   "execution_count": null,
   "metadata": {},
   "outputs": [],
   "source": [
    "# 获取所有边\n",
    "edges = list(G.edges())\n",
    "\n",
    "# 遍历所有边并根据概率删除边\n",
    "for edge in edges:\n",
    "    if random.random() < T_list[0]:\n",
    "        G.remove_edge(*edge)"
   ]
  },
  {
   "cell_type": "code",
   "execution_count": null,
   "metadata": {},
   "outputs": [],
   "source": []
  },
  {
   "cell_type": "code",
   "execution_count": 21,
   "metadata": {},
   "outputs": [
    {
     "data": {
      "text/latex": [
       "$\\displaystyle 0.170451808845373$"
      ],
      "text/plain": [
       "0.170451808845373"
      ]
     },
     "execution_count": 21,
     "metadata": {},
     "output_type": "execute_result"
    }
   ],
   "source": [
    "T_c"
   ]
  },
  {
   "cell_type": "code",
   "execution_count": 22,
   "metadata": {},
   "outputs": [],
   "source": [
    "H_1 = x"
   ]
  },
  {
   "cell_type": "code",
   "execution_count": 23,
   "metadata": {},
   "outputs": [],
   "source": [
    "while sp.Poly(H_1, x).degree() < max_size:\n",
    "    H_1 = x * G_1.subs(x, H_1)\n",
    "\n",
    "H_1_at_1 = H_1.subs(x, 1)\n",
    "S = 1 - G_0.subs(x, H_1_at_1)\n",
    "S_T = 1 - G_0.subs(x, 1 + (H_1_at_1 - 1) * x)"
   ]
  },
  {
   "cell_type": "code",
   "execution_count": 24,
   "metadata": {},
   "outputs": [
    {
     "data": {
      "text/latex": [
       "$\\displaystyle 1.0$"
      ],
      "text/plain": [
       "1.00000000000000"
      ]
     },
     "execution_count": 24,
     "metadata": {},
     "output_type": "execute_result"
    }
   ],
   "source": [
    "H_1_at_1"
   ]
  },
  {
   "cell_type": "code",
   "execution_count": 25,
   "metadata": {},
   "outputs": [
    {
     "data": {
      "text/latex": [
       "$\\displaystyle 0.000202860206483395 x^{30} + 0.000220803018046435 x^{29} + 0.000241048771051803 x^{28} + 0.000263991892633574 x^{27} + 0.000290112625944059 x^{26} + 0.00032 x^{25} + 0.000354382196583214 x^{24} + 0.000394167134323393 x^{23} + 0.00044049734784217 x^{22} + 0.00049482514792742 x^{21} + 0.000559016994374947 x^{20} + 0.000635500647840891 x^{19} + 0.000727476112331839 x^{18} + 0.000839223616042675 x^{17} + 0.0009765625 x^{16} + 0.00114755062109849 x^{15} + 0.00136357776485931 x^{14} + 0.00164112484090304 x^{13} + 0.0020046884346862 x^{12} + 0.0024918292940311 x^{11} + 0.00316227766016838 x^{10} + 0.00411522633744856 x^{9} + 0.0055242717280199 x^{8} + 0.0077135606736577 x^{7} + 0.0113402302906629 x^{6} + 0.0178885438199983 x^{5} + 0.03125 x^{4} + 0.0641500299099584 x^{3} + 0.176776695296637 x^{2}$"
      ],
      "text/plain": [
       "0.000202860206483395*x**30 + 0.000220803018046435*x**29 + 0.000241048771051803*x**28 + 0.000263991892633574*x**27 + 0.000290112625944059*x**26 + 0.00032*x**25 + 0.000354382196583214*x**24 + 0.000394167134323393*x**23 + 0.00044049734784217*x**22 + 0.00049482514792742*x**21 + 0.000559016994374947*x**20 + 0.000635500647840891*x**19 + 0.000727476112331839*x**18 + 0.000839223616042675*x**17 + 0.0009765625*x**16 + 0.00114755062109849*x**15 + 0.00136357776485931*x**14 + 0.00164112484090304*x**13 + 0.0020046884346862*x**12 + 0.0024918292940311*x**11 + 0.00316227766016838*x**10 + 0.00411522633744856*x**9 + 0.0055242717280199*x**8 + 0.0077135606736577*x**7 + 0.0113402302906629*x**6 + 0.0178885438199983*x**5 + 0.03125*x**4 + 0.0641500299099584*x**3 + 0.176776695296637*x**2"
      ]
     },
     "execution_count": 25,
     "metadata": {},
     "output_type": "execute_result"
    }
   ],
   "source": [
    "G_0"
   ]
  },
  {
   "cell_type": "code",
   "execution_count": 26,
   "metadata": {},
   "outputs": [
    {
     "data": {
      "text/latex": [
       "$\\displaystyle 0.662469925116445$"
      ],
      "text/plain": [
       "0.662469925116445"
      ]
     },
     "execution_count": 26,
     "metadata": {},
     "output_type": "execute_result"
    }
   ],
   "source": [
    "S_T"
   ]
  },
  {
   "cell_type": "code",
   "execution_count": 27,
   "metadata": {},
   "outputs": [
    {
     "data": {
      "text/latex": [
       "$\\displaystyle 0.662469925116445$"
      ],
      "text/plain": [
       "0.662469925116445"
      ]
     },
     "execution_count": 27,
     "metadata": {},
     "output_type": "execute_result"
    }
   ],
   "source": [
    "S"
   ]
  },
  {
   "cell_type": "code",
   "execution_count": null,
   "metadata": {},
   "outputs": [],
   "source": []
  }
 ],
 "metadata": {
  "kernelspec": {
   "display_name": "dgl",
   "language": "python",
   "name": "python3"
  },
  "language_info": {
   "codemirror_mode": {
    "name": "ipython",
    "version": 3
   },
   "file_extension": ".py",
   "mimetype": "text/x-python",
   "name": "python",
   "nbconvert_exporter": "python",
   "pygments_lexer": "ipython3",
   "version": "3.9.18"
  }
 },
 "nbformat": 4,
 "nbformat_minor": 2
}
