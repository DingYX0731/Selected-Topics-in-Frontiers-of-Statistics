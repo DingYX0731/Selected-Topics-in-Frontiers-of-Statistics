{
 "cells": [
  {
   "cell_type": "code",
   "execution_count": 1,
   "metadata": {},
   "outputs": [],
   "source": [
    "import networkx as nx\n",
    "import numpy as np\n",
    "import sympy as sp\n",
    "import math\n",
    "import matplotlib.pyplot as plt"
   ]
  },
  {
   "cell_type": "code",
   "execution_count": 2,
   "metadata": {},
   "outputs": [],
   "source": [
    "n = 10000\n",
    "p = 0.00005\n",
    "G = nx.erdos_renyi_graph(n, p)"
   ]
  },
  {
   "cell_type": "code",
   "execution_count": 3,
   "metadata": {},
   "outputs": [],
   "source": [
    "components = nx.connected_components(G)"
   ]
  },
  {
   "cell_type": "code",
   "execution_count": 4,
   "metadata": {},
   "outputs": [],
   "source": [
    "component_sizes = [len(component) for component in components]"
   ]
  },
  {
   "cell_type": "code",
   "execution_count": 5,
   "metadata": {},
   "outputs": [],
   "source": [
    "component_distribution = {}\n",
    "for size in component_sizes:\n",
    "    if size in component_distribution:\n",
    "        component_distribution[size] += 1\n",
    "    else:\n",
    "        component_distribution[size] = 1"
   ]
  },
  {
   "cell_type": "code",
   "execution_count": 6,
   "metadata": {},
   "outputs": [],
   "source": [
    "max_size = max(component_distribution.keys())"
   ]
  },
  {
   "cell_type": "code",
   "execution_count": 7,
   "metadata": {},
   "outputs": [
    {
     "data": {
      "image/png": "[encoded data removed]",
      "text/plain": [
       "<Figure size 640x480 with 1 Axes>"
      ]
     },
     "metadata": {},
     "output_type": "display_data"
    }
   ],
   "source": [
    "sizes, counts = zip(*sorted(component_distribution.items()))\n",
    "counts = [count/len(component_sizes) for count in counts]\n",
    "plt.bar(sizes, counts)\n",
    "plt.xlabel('Component Size')\n",
    "plt.ylabel('Frequency')\n",
    "plt.title('Component Size Distribution')\n",
    "plt.show()"
   ]
  },
  {
   "cell_type": "code",
   "execution_count": 8,
   "metadata": {},
   "outputs": [],
   "source": [
    "degrees = dict(G.degree())"
   ]
  },
  {
   "cell_type": "code",
   "execution_count": 9,
   "metadata": {},
   "outputs": [],
   "source": [
    "degrees = [d for n, d in G.degree()]\n",
    "max_degree = max(degrees) + 1\n",
    "freq = [degrees.count(d)/n for d in range(max_degree)]\n",
    "x = sp.symbols('x')\n",
    "G_0 = sum((0.5 ** k)*(math.exp(-0.5))/ math.factorial(k) * x**k for k in range(max_degree))\n",
    "G_0_prime = sp.diff(G_0, x)\n",
    "G_0_prime_at_1 = G_0_prime.subs(x, 1)\n",
    "G_1 = G_0_prime / G_0_prime_at_1"
   ]
  },
  {
   "cell_type": "code",
   "execution_count": 10,
   "metadata": {},
   "outputs": [
    {
     "data": {
      "text/latex": [
       "$\\displaystyle 0.000157950692633498 x^{5} + 0.00157950692633498 x^{4} + 0.0126360554106799 x^{3} + 0.0758163324640792 x^{2} + 0.303265329856317 x + 0.606530659712633$"
      ],
      "text/plain": [
       "0.000157950692633498*x**5 + 0.00157950692633498*x**4 + 0.0126360554106799*x**3 + 0.0758163324640792*x**2 + 0.303265329856317*x + 0.606530659712633"
      ]
     },
     "execution_count": 10,
     "metadata": {},
     "output_type": "execute_result"
    }
   ],
   "source": [
    "G_0"
   ]
  },
  {
   "cell_type": "code",
   "execution_count": 11,
   "metadata": {},
   "outputs": [
    {
     "data": {
      "text/latex": [
       "$\\displaystyle 0.00157977883096367 x^{4} + 0.0126382306477093 x^{3} + 0.0758293838862559 x^{2} + 0.303317535545024 x + 0.606635071090047$"
      ],
      "text/plain": [
       "0.00157977883096367*x**4 + 0.0126382306477093*x**3 + 0.0758293838862559*x**2 + 0.303317535545024*x + 0.606635071090047"
      ]
     },
     "execution_count": 11,
     "metadata": {},
     "output_type": "execute_result"
    }
   ],
   "source": [
    "G_1"
   ]
  },
  {
   "cell_type": "code",
   "execution_count": 12,
   "metadata": {},
   "outputs": [
    {
     "data": {
      "text/plain": [
       "4"
      ]
     },
     "execution_count": 12,
     "metadata": {},
     "output_type": "execute_result"
    }
   ],
   "source": [
    "sp.Poly(G_1, x).degree()"
   ]
  },
  {
   "cell_type": "code",
   "execution_count": 13,
   "metadata": {},
   "outputs": [],
   "source": [
    "H_1 = x"
   ]
  },
  {
   "cell_type": "code",
   "execution_count": 14,
   "metadata": {},
   "outputs": [],
   "source": [
    "P_list = []"
   ]
  },
  {
   "cell_type": "code",
   "execution_count": 15,
   "metadata": {},
   "outputs": [],
   "source": [
    "while sp.Poly(H_1, x).degree() < max_size:\n",
    "    H_1 = G_1.subs(x, H_1)"
   ]
  },
  {
   "cell_type": "code",
   "execution_count": 16,
   "metadata": {},
   "outputs": [
    {
     "data": {
      "text/latex": [
       "$\\displaystyle 9.8396907644155 \\cdot 10^{-15} x^{16} + 3.14870104461296 \\cdot 10^{-13} x^{15} + 5.66766188030333 \\cdot 10^{-12} x^{14} + 7.30498642350207 \\cdot 10^{-11} x^{13} + 7.85364758052587 \\cdot 10^{-10} x^{12} + 7.24138266240088 \\cdot 10^{-9} x^{11} + 5.83353545133354 \\cdot 10^{-8} x^{10} + 4.11804755340333 \\cdot 10^{-7} x^{9} + 2.7195637920674 \\cdot 10^{-6} x^{8} + 1.64475321059927 \\cdot 10^{-5} x^{7} + 9.1192180899835 \\cdot 10^{-5} x^{6} + 0.000451181977342998 x^{5} + 0.00237968728641948 x^{4} + 0.0103566585224561 x^{3} + 0.0405552196497213 x^{2} + 0.12456723858032 x + 0.821579176461042$"
      ],
      "text/plain": [
       "9.8396907644155e-15*x**16 + 3.14870104461296e-13*x**15 + 5.66766188030333e-12*x**14 + 7.30498642350207e-11*x**13 + 7.85364758052587e-10*x**12 + 7.24138266240088e-9*x**11 + 5.83353545133354e-8*x**10 + 4.11804755340333e-7*x**9 + 2.7195637920674e-6*x**8 + 1.64475321059927e-5*x**7 + 9.1192180899835e-5*x**6 + 0.000451181977342998*x**5 + 0.00237968728641948*x**4 + 0.0103566585224561*x**3 + 0.0405552196497213*x**2 + 0.12456723858032*x + 0.821579176461042"
      ]
     },
     "execution_count": 16,
     "metadata": {},
     "output_type": "execute_result"
    }
   ],
   "source": [
    "sp.expand(H_1)"
   ]
  },
  {
   "cell_type": "code",
   "execution_count": 17,
   "metadata": {},
   "outputs": [
    {
     "data": {
      "text/latex": [
       "$\\displaystyle 1.45689678272457 \\cdot 10^{-74} x^{81} + 2.33103485235931 \\cdot 10^{-72} x^{80} + 1.91144857893463 \\cdot 10^{-70} x^{79} + 1.06854637632151 \\cdot 10^{-68} x^{78} + 4.57550089788912 \\cdot 10^{-67} x^{77} + 1.59952469333915 \\cdot 10^{-65} x^{76} + 4.75269707632955 \\cdot 10^{-64} x^{75} + 1.23399126913594 \\cdot 10^{-62} x^{74} + 2.8566040946933 \\cdot 10^{-61} x^{73} + 5.9864077518818 \\cdot 10^{-60} x^{72} + 1.14924434792269 \\cdot 10^{-58} x^{71} + 2.04031842752689 \\cdot 10^{-57} x^{70} + 3.37571864056952 \\cdot 10^{-56} x^{69} + 5.23820368121996 \\cdot 10^{-55} x^{68} + 7.66418850083353 \\cdot 10^{-54} x^{67} + 1.06215548984863 \\cdot 10^{-52} x^{66} + 1.39971687616858 \\cdot 10^{-51} x^{65} + 1.75990621909581 \\cdot 10^{-50} x^{64} + 2.11747846009545 \\cdot 10^{-49} x^{63} + 2.44432651075853 \\cdot 10^{-48} x^{62} + 2.71339825664244 \\cdot 10^{-47} x^{61} + 2.90253993064746 \\cdot 10^{-46} x^{60} + 2.9974959519722 \\cdot 10^{-45} x^{59} + 2.99352383149708 \\cdot 10^{-44} x^{58} + 2.89542433115948 \\cdot 10^{-43} x^{57} + 2.7161378579916 \\cdot 10^{-42} x^{56} + 2.47432699157141 \\cdot 10^{-41} x^{55} + 2.19149875278481 \\cdot 10^{-40} x^{54} + 1.88921129877914 \\cdot 10^{-39} x^{53} + 1.58678905976461 \\cdot 10^{-38} x^{52} + 1.29978989561466 \\cdot 10^{-37} x^{51} + 1.03928164006387 \\cdot 10^{-36} x^{50} + 8.11834908526891 \\cdot 10^{-36} x^{49} + 6.20046181724509 \\cdot 10^{-35} x^{48} + 4.633725017018 \\cdot 10^{-34} x^{47} + 3.39075078557714 \\cdot 10^{-33} x^{46} + 2.43115301708736 \\cdot 10^{-32} x^{45} + 1.70904351863137 \\cdot 10^{-31} x^{44} + 1.17862128594765 \\cdot 10^{-30} x^{43} + 7.97837135690611 \\cdot 10^{-30} x^{42} + 5.30388965749825 \\cdot 10^{-29} x^{41} + 3.46433746668716 \\cdot 10^{-28} x^{40} + 2.22423938500586 \\cdot 10^{-27} x^{39} + 1.40428476913008 \\cdot 10^{-26} x^{38} + 8.72180474162671 \\cdot 10^{-26} x^{37} + 5.33078108463451 \\cdot 10^{-25} x^{36} + 3.20742951569546 \\cdot 10^{-24} x^{35} + 1.90041324983114 \\cdot 10^{-23} x^{34} + 1.10917992769555 \\cdot 10^{-22} x^{33} + 6.3790079461254 \\cdot 10^{-22} x^{32} + 3.61602178348706 \\cdot 10^{-21} x^{31} + 2.02096920037182 \\cdot 10^{-20} x^{30} + 1.11392664862423 \\cdot 10^{-19} x^{29} + 6.05665021000585 \\cdot 10^{-19} x^{28} + 3.24932366523952 \\cdot 10^{-18} x^{27} + 1.7204457163478 \\cdot 10^{-17} x^{26} + 8.99250121110877 \\cdot 10^{-17} x^{25} + 4.64109777033937 \\cdot 10^{-16} x^{24} + 2.36580753556826 \\cdot 10^{-15} x^{23} + 1.19145562088439 \\cdot 10^{-14} x^{22} + 5.92972151508019 \\cdot 10^{-14} x^{21} + 2.91710368271899 \\cdot 10^{-13} x^{20} + 1.41874099698266 \\cdot 10^{-12} x^{19} + 6.8214800533403 \\cdot 10^{-12} x^{18} + 3.24208531335799 \\cdot 10^{-11} x^{17} + 1.52292832185323 \\cdot 10^{-10} x^{16} + 7.07037337856078 \\cdot 10^{-10} x^{15} + 3.24347824443862 \\cdot 10^{-9} x^{14} + 1.47139853687697 \\cdot 10^{-8} x^{13} + 6.60501092045524 \\cdot 10^{-8} x^{12} + 2.93365535675508 \\cdot 10^{-7} x^{11} + 1.28378016456513 \\cdot 10^{-6} x^{10} + 5.56361210825724 \\cdot 10^{-6} x^{9} + 2.37064904155531 \\cdot 10^{-5} x^{8} + 9.86554114457856 \\cdot 10^{-5} x^{7} + 0.000391432507957791 x^{6} + 0.00160705223597218 x^{5} + 0.00592674885691135 x^{4} + 0.0203182574179147 x^{3} + 0.0569639552236556 x^{2} + 0.914648801252666 x$"
      ],
      "text/plain": [
       "1.45689678272457e-74*x**81 + 2.33103485235931e-72*x**80 + 1.91144857893463e-70*x**79 + 1.06854637632151e-68*x**78 + 4.57550089788912e-67*x**77 + 1.59952469333915e-65*x**76 + 4.75269707632955e-64*x**75 + 1.23399126913594e-62*x**74 + 2.8566040946933e-61*x**73 + 5.9864077518818e-60*x**72 + 1.14924434792269e-58*x**71 + 2.04031842752689e-57*x**70 + 3.37571864056952e-56*x**69 + 5.23820368121996e-55*x**68 + 7.66418850083353e-54*x**67 + 1.06215548984863e-52*x**66 + 1.39971687616858e-51*x**65 + 1.75990621909581e-50*x**64 + 2.11747846009545e-49*x**63 + 2.44432651075853e-48*x**62 + 2.71339825664244e-47*x**61 + 2.90253993064746e-46*x**60 + 2.9974959519722e-45*x**59 + 2.99352383149708e-44*x**58 + 2.89542433115948e-43*x**57 + 2.7161378579916e-42*x**56 + 2.47432699157141e-41*x**55 + 2.19149875278481e-40*x**54 + 1.88921129877914e-39*x**53 + 1.58678905976461e-38*x**52 + 1.29978989561466e-37*x**51 + 1.03928164006387e-36*x**50 + 8.11834908526891e-36*x**49 + 6.20046181724509e-35*x**48 + 4.633725017018e-34*x**47 + 3.39075078557714e-33*x**46 + 2.43115301708736e-32*x**45 + 1.70904351863137e-31*x**44 + 1.17862128594765e-30*x**43 + 7.97837135690611e-30*x**42 + 5.30388965749825e-29*x**41 + 3.46433746668716e-28*x**40 + 2.22423938500586e-27*x**39 + 1.40428476913008e-26*x**38 + 8.72180474162671e-26*x**37 + 5.33078108463451e-25*x**36 + 3.20742951569546e-24*x**35 + 1.90041324983114e-23*x**34 + 1.10917992769555e-22*x**33 + 6.3790079461254e-22*x**32 + 3.61602178348706e-21*x**31 + 2.02096920037182e-20*x**30 + 1.11392664862423e-19*x**29 + 6.05665021000585e-19*x**28 + 3.24932366523952e-18*x**27 + 1.7204457163478e-17*x**26 + 8.99250121110877e-17*x**25 + 4.64109777033937e-16*x**24 + 2.36580753556826e-15*x**23 + 1.19145562088439e-14*x**22 + 5.92972151508019e-14*x**21 + 2.91710368271899e-13*x**20 + 1.41874099698266e-12*x**19 + 6.8214800533403e-12*x**18 + 3.24208531335799e-11*x**17 + 1.52292832185323e-10*x**16 + 7.07037337856078e-10*x**15 + 3.24347824443862e-9*x**14 + 1.47139853687697e-8*x**13 + 6.60501092045524e-8*x**12 + 2.93365535675508e-7*x**11 + 1.28378016456513e-6*x**10 + 5.56361210825724e-6*x**9 + 2.37064904155531e-5*x**8 + 9.86554114457856e-5*x**7 + 0.000391432507957791*x**6 + 0.00160705223597218*x**5 + 0.00592674885691135*x**4 + 0.0203182574179147*x**3 + 0.0569639552236556*x**2 + 0.914648801252666*x"
      ]
     },
     "execution_count": 17,
     "metadata": {},
     "output_type": "execute_result"
    }
   ],
   "source": [
    "sp.expand(x * G_0.subs(x, H_1))"
   ]
  },
  {
   "cell_type": "code",
   "execution_count": 18,
   "metadata": {},
   "outputs": [
    {
     "name": "stdout",
     "output_type": "stream",
     "text": [
      "hi\n",
      "hi\n",
      "Hi\n",
      "Hi\n",
      "Hi\n",
      "Hi\n",
      "Hi\n",
      "Hi\n",
      "Hi\n",
      "Hi\n",
      "Hi\n",
      "Hi\n",
      "Hi\n",
      "Hi\n",
      "Hi\n",
      "Hi\n",
      "Hi\n"
     ]
    }
   ],
   "source": [
    "H_1 = sp.expand(H_1)\n",
    "print(\"hi\")\n",
    "H_0 = x * G_0.subs(x, H_1)\n",
    "H_0 = sp.expand(H_0)\n",
    "den = 1\n",
    "print(\"hi\")\n",
    "for i in range(max_size):\n",
    "    print(\"Hi\")\n",
    "    H_0_prime = H_0\n",
    "    den *= (i+1)\n",
    "    for j in range(i+1):\n",
    "        H_0_prime = sp.diff(H_0_prime, x)\n",
    "    H_0_prime = H_0_prime.subs(x, 0)\n",
    "    P_s = 1 / den * H_0_prime\n",
    "    P_list.append(P_s)"
   ]
  },
  {
   "cell_type": "code",
   "execution_count": 19,
   "metadata": {},
   "outputs": [
    {
     "data": {
      "text/plain": [
       "[0.914648801252666,\n",
       " 0.0569639552236556,\n",
       " 0.0203182574179147,\n",
       " 0.00592674885691135,\n",
       " 0.00160705223597218,\n",
       " 0.000391432507957791,\n",
       " 9.86554114457856e-5,\n",
       " 2.37064904155531e-5,\n",
       " 5.56361210825724e-6,\n",
       " 1.28378016456513e-6,\n",
       " 2.93365535675509e-7,\n",
       " 6.60501092045525e-8,\n",
       " 1.47139853687697e-8,\n",
       " 3.24347824443862e-9,\n",
       " 7.07037337856078e-10]"
      ]
     },
     "execution_count": 19,
     "metadata": {},
     "output_type": "execute_result"
    }
   ],
   "source": [
    "P_list"
   ]
  },
  {
   "cell_type": "code",
   "execution_count": 21,
   "metadata": {},
   "outputs": [
    {
     "data": {
      "image/png": "[encoded data removed]",
      "text/plain": [
       "<Figure size 640x480 with 1 Axes>"
      ]
     },
     "metadata": {},
     "output_type": "display_data"
    }
   ],
   "source": [
    "positions = [str(i) for i in range(1, len(P_list) + 1)]\n",
    "\n",
    "plt.bar(positions, P_list)\n",
    "plt.xlabel('Component Size')\n",
    "plt.ylabel('Frequency')\n",
    "plt.title('Component Size Distribution')\n",
    "plt.show()"
   ]
  },
  {
   "cell_type": "code",
   "execution_count": 22,
   "metadata": {},
   "outputs": [
    {
     "data": {
      "image/png": "[encoded data removed]",
      "text/plain": [
       "<Figure size 1000x500 with 1 Axes>"
      ]
     },
     "metadata": {},
     "output_type": "display_data"
    }
   ],
   "source": [
    "S_list = []\n",
    "T_list = [0.1, 0.2, 0.3, 0.4, 0.5, 0.6, 0.7, 0.8, 0.9]\n",
    "for T in T_list:\n",
    "    S = 0.1\n",
    "    for i in range(10):\n",
    "        S = 1 - math.exp(-1 * S / T)\n",
    "    S_list.append(S)\n",
    "\n",
    "plt.figure(figsize=(10, 5)) \n",
    "plt.plot(T_list, S_list, label='S vs T', marker='o') \n",
    "\n",
    "# plt.plot(degrees, T_list, label='T', marker='s', linestyle='--')  \n",
    "\n",
    "plt.title('S and T changed by degree')\n",
    "plt.xlabel('T')\n",
    "plt.ylabel('S')\n",
    "\n",
    "plt.legend()\n",
    "\n",
    "plt.grid(True)\n",
    "plt.show()"
   ]
  },
  {
   "cell_type": "code",
   "execution_count": 23,
   "metadata": {},
   "outputs": [],
   "source": [
    "N = 1001\n",
    "\n",
    "G_0 = 0\n",
    "for k in range(2, int(math.sqrt(N))):\n",
    "    p_k = k**(-2.5)\n",
    "    G_0 += p_k * x**k\n",
    "G_0_prime = sp.diff(G_0, x)\n",
    "G_0_prime_twice = sp.diff(G_0_prime, x)\n",
    "G_0_prime_at_1 = G_0_prime.subs(x, 1)\n",
    "G_1 = G_0_prime / G_0_prime_at_1\n",
    "G_0_prime_twice_at_1 = G_0_prime_twice.subs(x, 1)\n",
    "T_c = G_0_prime_at_1 / G_0_prime_twice_at_1"
   ]
  },
  {
   "cell_type": "code",
   "execution_count": 24,
   "metadata": {},
   "outputs": [
    {
     "data": {
      "text/latex": [
       "$\\displaystyle 0.170451808845373$"
      ],
      "text/plain": [
       "0.170451808845373"
      ]
     },
     "execution_count": 24,
     "metadata": {},
     "output_type": "execute_result"
    }
   ],
   "source": [
    "T_c"
   ]
  },
  {
   "cell_type": "code",
   "execution_count": 25,
   "metadata": {},
   "outputs": [],
   "source": [
    "H_1 = x"
   ]
  },
  {
   "cell_type": "code",
   "execution_count": 26,
   "metadata": {},
   "outputs": [],
   "source": [
    "while sp.Poly(H_1, x).degree() < max_size:\n",
    "    H_1 = G_1.subs(x, H_1)\n",
    "\n",
    "H_1_at_1 = H_1.subs(x, 1)\n",
    "S = 1 - G_0.subs(x, H_1_at_1)"
   ]
  },
  {
   "cell_type": "code",
   "execution_count": 52,
   "metadata": {},
   "outputs": [
    {
     "data": {
      "text/latex": [
       "$\\displaystyle 0.659184430248537$"
      ],
      "text/plain": [
       "0.659184430248537"
      ]
     },
     "execution_count": 52,
     "metadata": {},
     "output_type": "execute_result"
    }
   ],
   "source": [
    "S"
   ]
  },
  {
   "cell_type": "code",
   "execution_count": null,
   "metadata": {},
   "outputs": [],
   "source": []
  }
 ],
 "metadata": {
  "kernelspec": {
   "display_name": "dgl",
   "language": "python",
   "name": "python3"
  },
  "language_info": {
   "codemirror_mode": {
    "name": "ipython",
    "version": 3
   },
   "file_extension": ".py",
   "mimetype": "text/x-python",
   "name": "python",
   "nbconvert_exporter": "python",
   "pygments_lexer": "ipython3",
   "version": "3.9.18"
  }
 },
 "nbformat": 4,
 "nbformat_minor": 2
}
